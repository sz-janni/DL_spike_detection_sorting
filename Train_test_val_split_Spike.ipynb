{
 "cells": [
  {
   "cell_type": "code",
   "execution_count": 25,
   "metadata": {},
   "outputs": [],
   "source": [
    "from sklearn.model_selection import train_test_split\n",
    "import pandas as pd"
   ]
  },
  {
   "cell_type": "code",
   "execution_count": 32,
   "metadata": {},
   "outputs": [],
   "source": [
    "def train_test_validation_split(data_path):\n",
    "    \"\"\"\n",
    "    This function splits out dataset into train, test and validation sets.\n",
    "    Parameter: data_path: the path of the file containing the data.\n",
    "    Returns: training data, testing data and validation data\n",
    "    \"\"\"\n",
    "    \n",
    "    # Reading the pickle file\n",
    "    data = pd.read_pickle(data_path)\n",
    "    \n",
    "    # Splitting the dataset into 80% training and 20% testing data\n",
    "    train, test = train_test_split(data, train_size = 0.8)\n",
    "    \n",
    "    # Turning 10% of the training data into data for validation\n",
    "    train_split, validation = train_test_split(train, train_size = 0.9)\n",
    "    \n",
    "    return train_split, test, validation"
   ]
  },
  {
   "cell_type": "code",
   "execution_count": 33,
   "metadata": {},
   "outputs": [
    {
     "data": {
      "text/plain": [
       "(array([[ 3.4129657e-03, -1.1675706e+00, -2.5771987e+00, ...,\n",
       "         -9.5628996e+00, -1.0108761e+01, -9.1932611e+00],\n",
       "        [-1.5546633e-01,  1.4467726e+00,  1.8599958e+00, ...,\n",
       "         -5.2807231e+00, -5.1870418e+00, -4.5808635e+00],\n",
       "        [-2.9020727e+00, -2.2899311e+00, -1.4136870e+00, ...,\n",
       "         -2.8328161e+00, -1.6588559e+00, -6.1491996e-01],\n",
       "        ...,\n",
       "        [-2.0627592e+00, -9.2546582e-01, -2.2158276e-02, ...,\n",
       "         -2.7964602e+00, -2.4229074e+00, -2.0411651e+00],\n",
       "        [ 1.0296502e-01,  2.0228715e-01,  6.6600281e-01, ...,\n",
       "         -6.8375463e+00, -6.8561039e+00, -7.1351118e+00],\n",
       "        [-9.6499312e-01, -2.1895850e+00, -3.4063482e+00, ...,\n",
       "         -2.5736256e+00, -2.0556917e+00, -4.0079194e-01]], dtype=float32),\n",
       " array([[ -0.31128088,  -0.66940504,  -0.99205685, ...,   0.02322764,\n",
       "          -0.2375002 ,  -0.3237069 ],\n",
       "        [  1.3497849 ,   1.1817659 ,   1.0232236 , ...,   2.3126562 ,\n",
       "           1.9231035 ,   1.3394461 ],\n",
       "        [  0.16676103,  -0.42061   ,  -0.9320431 , ..., -14.288943  ,\n",
       "         -10.633382  ,  -6.6710544 ],\n",
       "        ...,\n",
       "        [  2.765748  ,   0.5526441 ,  -1.7320291 , ...,  -2.3467603 ,\n",
       "          -2.00396   ,  -1.6022574 ],\n",
       "        [ -0.987043  ,  -0.9873098 ,  -0.8210337 , ...,  -1.007116  ,\n",
       "          -1.3828017 ,  -1.5113021 ],\n",
       "        [  3.185484  ,   4.012548  ,   4.183397  , ...,   0.5765221 ,\n",
       "           0.6797469 ,   0.82739633]], dtype=float32),\n",
       " array([[ -1.6913177 ,  -1.3491656 ,  -0.704626  , ...,  -8.538288  ,\n",
       "          -8.083526  ,  -7.4431868 ],\n",
       "        [  0.9729269 ,   1.7518262 ,   2.5316455 , ...,  -8.973548  ,\n",
       "          -8.284378  ,  -6.6248755 ],\n",
       "        [  0.09404667,  -0.11576792,  -0.35771057, ..., -13.665617  ,\n",
       "          -9.010699  ,  -4.130869  ],\n",
       "        ...,\n",
       "        [ -1.1966034 ,  -2.3673792 ,  -3.3066163 , ...,  -7.4418354 ,\n",
       "          -7.5978746 ,  -6.776598  ],\n",
       "        [  0.9125526 ,   0.7924738 ,   0.6161639 , ...,  -1.1280676 ,\n",
       "          -0.28325674,   0.75181985],\n",
       "        [ -0.32370123,  -0.68580115,  -1.1932975 , ...,  -5.296686  ,\n",
       "          -4.049489  ,  -2.323844  ]], dtype=float32))"
      ]
     },
     "execution_count": 33,
     "metadata": {},
     "output_type": "execute_result"
    }
   ],
   "source": [
    "train_test_validation_split('spike_waveform_data.pickle')"
   ]
  },
  {
   "cell_type": "code",
   "execution_count": 9,
   "metadata": {},
   "outputs": [
    {
     "data": {
      "text/plain": [
       "(2527636, 40)"
      ]
     },
     "execution_count": 9,
     "metadata": {},
     "output_type": "execute_result"
    }
   ],
   "source": [
    "data.shape"
   ]
  },
  {
   "cell_type": "code",
   "execution_count": 10,
   "metadata": {},
   "outputs": [
    {
     "data": {
      "text/plain": [
       "(505528, 40)"
      ]
     },
     "execution_count": 10,
     "metadata": {},
     "output_type": "execute_result"
    }
   ],
   "source": [
    "test.shape"
   ]
  },
  {
   "cell_type": "code",
   "execution_count": 11,
   "metadata": {},
   "outputs": [
    {
     "data": {
      "text/plain": [
       "(2022108, 40)"
      ]
     },
     "execution_count": 11,
     "metadata": {},
     "output_type": "execute_result"
    }
   ],
   "source": [
    "train.shape"
   ]
  }
 ],
 "metadata": {
  "kernelspec": {
   "display_name": "Python 3",
   "language": "python",
   "name": "python3"
  },
  "language_info": {
   "codemirror_mode": {
    "name": "ipython",
    "version": 3
   },
   "file_extension": ".py",
   "mimetype": "text/x-python",
   "name": "python",
   "nbconvert_exporter": "python",
   "pygments_lexer": "ipython3",
   "version": "3.8.3"
  }
 },
 "nbformat": 4,
 "nbformat_minor": 4
}
